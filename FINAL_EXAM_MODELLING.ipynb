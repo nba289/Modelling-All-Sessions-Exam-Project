{
  "nbformat": 4,
  "nbformat_minor": 0,
  "metadata": {
    "colab": {
      "provenance": []
    },
    "kernelspec": {
      "name": "python3",
      "display_name": "Python 3"
    },
    "language_info": {
      "name": "python"
    }
  },
  "cells": [
    {
      "cell_type": "code",
      "execution_count": null,
      "metadata": {
        "id": "8EUmYmgFcBga"
      },
      "outputs": [],
      "source": [
        "#@title Question 1\n"
      ]
    },
    {
      "cell_type": "code",
      "source": [
        "#@title Question 2"
      ],
      "metadata": {
        "id": "MlI8ek4ReoJQ"
      },
      "execution_count": null,
      "outputs": []
    },
    {
      "cell_type": "code",
      "source": [
        "#@title Question 3\n",
        "import matplotlib.pyplot as plt\n",
        "import pandas as pd\n",
        "import pandas_datareader.data as web\n",
        "import datetime\n",
        "import yfinance as yfin\n",
        "yfin.pdr_override()\n",
        "\n",
        "# Format today's date\n",
        "today = datetime.datetime.today()\n",
        "formatted_date = today.strftime(\"%Y-%m-%d\")\n",
        "\n",
        "# This is the Ford stock (ticker symbol 'F') from Yahoo Finance\n",
        "df1 = web.DataReader('F', start='2024-01-25', end=formatted_date)\n",
        "df1.index = pd.to_datetime(df1.index)\n",
        "\n",
        "# This allows me to count the number of rows in the DataFrame\n",
        "row_count = df1.shape[0]\n",
        "\n",
        "# Now I will list all column names in the DataFrame\n",
        "column_names = df1.columns\n",
        "\n",
        "# This is to plot the highest stock value on April 11th (checking the 'High' value)\n",
        "highest_value_april11 = df1[df1.index == '2024-04-11']['High'].max()\n",
        "\n",
        "# I have chosen to plot the 'Close' column from this stock for part 2\n",
        "plt.figure(figsize=(10, 5))\n",
        "plt.plot(df1['Close'], label='Closing Price')\n",
        "plt.title('Closing Stock Prices for Ford (Ticker: F)')\n",
        "plt.xlabel('Date')\n",
        "plt.ylabel('Close Price')\n",
        "plt.legend()\n",
        "plt.grid(True)\n",
        "plt.show()\n",
        "\n",
        "# Finally, I have to print the results of the question of part 1\n",
        "print(\"Number of rows in the DataFrame:\", row_count)\n",
        "print(\"Column names in the DataFrame:\", column_names)\n",
        "print(\"Highest stock value on April 11th:\", highest_value_april11)"
      ],
      "metadata": {
        "id": "vtRh6wAver2G"
      },
      "execution_count": null,
      "outputs": []
    },
    {
      "cell_type": "markdown",
      "source": [
        "Question 4\n",
        "\n",
        "A method in Python is a function defined inside a class that manipulates the data of the class instances. A \"magic\" method is a special type of method that has double underscores at the start and end of its name (like __init__, __str__) and is used to implement behavior for built-in operations in Python, such as initialization, string representation, and arithmetic operations. Magic methods are automatically triggered by Python's built-in functions and operators. We used __init__ because it starts each new ColoredPoint object with x, y coordinates, and a color. It checks if the provided color is in the predefined list of COLORS. If the color isn't valid, it raises an exception."
      ],
      "metadata": {
        "id": "Binq_0QprkB7"
      }
    },
    {
      "cell_type": "code",
      "source": [
        "#@title Question 6\n",
        "import random\n",
        "import numpy as np\n",
        "import pandas as pd\n",
        "import matplotlib.pyplot as plt\n",
        "from matplotlib import pylab as plt\n",
        "\n",
        "# Define the Card and Deck classes as provided above\n",
        "class Card:\n",
        "    SUITS = [\"♣\", \"♦\", \"♥\", \"♠\"]\n",
        "    RANKS = [\"2\", \"3\", \"4\", \"5\", \"6\", \"7\", \"8\", \"9\", \"10\", \"J\", \"Q\", \"K\", \"A\"]\n",
        "\n",
        "    def __init__(self, rank, suit):\n",
        "        if rank not in self.RANKS:\n",
        "            raise Exception(f\"Invalid rank, must be one of {self.RANKS}\")\n",
        "        if suit not in self.SUITS:\n",
        "            raise Exception(f\"Invalid suit, must be one of {self.SUITS}\")\n",
        "        self._rank = rank\n",
        "        self._suit = suit\n",
        "\n",
        "    def __gt__(self, other):\n",
        "        return self.RANKS.index(self._rank) > self.RANKS.index(other._rank)\n",
        "\n",
        "    def __eq__(self, other):\n",
        "        return self._rank == other._rank\n",
        "\n",
        "    @property\n",
        "    def suit(self):\n",
        "        return self._suit\n",
        "\n",
        "    @property\n",
        "    def rank(self):\n",
        "        return self._rank\n",
        "\n",
        "    def __str__(self):\n",
        "        return f\"{self._rank}{self._suit}\"\n",
        "\n",
        "    def __repr__(self):\n",
        "        return self.__str__()\n",
        "\n",
        "class Deck:\n",
        "    def __init__(self):\n",
        "        self._cards = [Card(rank, suit) for rank in Card.RANKS for suit in Card.SUITS]\n",
        "        self.shuffle()\n",
        "        # iterate over all ranks and suits, create a card and add it to the list\n",
        "\n",
        "    def shuffle(self):\n",
        "        random.shuffle(self._cards)\n",
        "# shuffles the cards in the deck\n",
        "    def draw(self, count):\n",
        "        return [self._cards.pop() for _ in range(count)]\n",
        "\n",
        "# Define the Hand class as provided above\n",
        "class Hand:\n",
        "    def __init__(self, cards):\n",
        "        self._cards = tuple(cards)\n",
        "\n",
        "    @property\n",
        "    def is_3_kind(self):\n",
        "        ranks = [card.rank for card in self._cards]\n",
        "        return any(ranks.count(rank) == 3 for rank in ranks)\n",
        "\n",
        "# Simulation\n",
        "num_trials = 30000\n",
        "count_three_of_kind = 0\n",
        "probability_history = []\n",
        "\n",
        "for i in range(1, num_trials + 1):\n",
        "    deck = Deck()\n",
        "    hand = Hand(deck.draw(5))\n",
        "    if hand.is_3_kind:\n",
        "        count_three_of_kind += 1\n",
        "    current_probability = (count_three_of_kind / i) * 100\n",
        "    probability_history.append(current_probability)\n",
        "\n",
        "# Plot the probability history\n",
        "plt.figure(figsize=(10, 5))\n",
        "plt.plot(range(1, num_trials + 1), probability_history, label='Probability of Three of a Kind')\n",
        "plt.xlabel('Number of Draws')\n",
        "plt.ylabel('Probability (%)')\n",
        "plt.title('Probability of Drawing Three of a Kind Over Time')\n",
        "plt.grid(True)\n",
        "plt.legend()\n",
        "plt.show()\n",
        "\n",
        "# Print the final computed probability\n",
        "final_probability = probability_history[-1]\n",
        "print(f\"The final computed probability of drawing a Three of a Kind is approximately {final_probability:.2f}%\")\n"
      ],
      "metadata": {
        "colab": {
          "base_uri": "https://localhost:8080/",
          "height": 504
        },
        "id": "_19goWS6esik",
        "outputId": "e3f1bc8d-0ac5-491c-cbd4-e41f0867daf9"
      },
      "execution_count": 1,
      "outputs": [
        {
          "output_type": "display_data",
          "data": {
            "text/plain": [
              "<Figure size 1000x500 with 1 Axes>"
            ],
            "image/png": "[encoded data removed]"
          },
          "metadata": {}
        },
        {
          "output_type": "stream",
          "name": "stdout",
          "text": [
            "The final computed probability of drawing a Three of a Kind is approximately 2.23%\n"
          ]
        }
      ]
    },
    {
      "cell_type": "code",
      "source": [
        "#@title Question 7\n",
        "import numpy as np\n",
        "import matplotlib.pyplot as plt\n",
        "\n",
        "x = np.arange(-10, 10, 0.1)\n",
        "y = x**2 + 2*x + 3\n",
        "min_y = np.min(y) # This is so that it calculates for me the minimum y value\n",
        "print(min_y) # And I print said minimum value\n",
        "plt.plot(x, y)"
      ],
      "metadata": {
        "id": "Cs5BODXsdZ7B"
      },
      "execution_count": null,
      "outputs": []
    },
    {
      "cell_type": "code",
      "source": [
        "#@title Question 8\n",
        "import numpy as np\n",
        "import pandas as pd\n",
        "\n",
        "# Creating the DataFrame\n",
        "df = pd.DataFrame(np.random.randn(4, 4), index=[1, 2, 3, 4], columns=['a', 'b', 'c', 'd'])\n",
        "print(\"DataFrame:\\n\", df)\n",
        "\n",
        "# I have chosen row 2 and column 'c'\n",
        "element_loc = df.loc[2, 'c']\n",
        "element_iloc = df.iloc[1, 2]\n",
        "element_index = df['c'][2]\n",
        "\n",
        "print(\"\\nI have chosen row 2 and column 'c':\")\n",
        "print(\"loc:\", element_loc)\n",
        "print(\"iloc:\", element_iloc)\n",
        "print(\"index:\", element_index)\n"
      ],
      "metadata": {
        "colab": {
          "base_uri": "https://localhost:8080/"
        },
        "id": "rjMdoD91ewGQ",
        "outputId": "df4987ad-fbef-40c0-a323-14bdbbf66009"
      },
      "execution_count": null,
      "outputs": [
        {
          "output_type": "stream",
          "name": "stdout",
          "text": [
            "DataFrame:\n",
            "           a         b         c         d\n",
            "1 -0.065926  1.149188 -0.371852  0.672751\n",
            "2  1.340667 -0.126887  1.100247  0.446183\n",
            "3 -1.658288  1.474776 -0.077025  1.022168\n",
            "4 -0.593677  0.016780  0.504949  0.284139\n",
            "\n",
            "I have chosen row 2 and column 'c':\n",
            "loc: 1.1002467210541864\n",
            "iloc: 1.1002467210541864\n",
            "index: 1.1002467210541864\n"
          ]
        }
      ]
    },
    {
      "cell_type": "code",
      "source": [
        "#@title Question 9\n",
        "import numpy as np\n",
        "a = np.arange(0, 12)\n",
        "# Reshaping the array to 3x4 form\n",
        "a = a.reshape(3, 4)\n",
        "# Add 7 to each element to get the values we want\n",
        "a = 2 * a + 7\n",
        "\n",
        "print(a)"
      ],
      "metadata": {
        "colab": {
          "base_uri": "https://localhost:8080/"
        },
        "id": "91ZlBLTFexH8",
        "outputId": "1e0ab0e1-77ff-4936-e6c5-d54f91c85012"
      },
      "execution_count": null,
      "outputs": [
        {
          "output_type": "stream",
          "name": "stdout",
          "text": [
            "[[ 7  9 11 13]\n",
            " [15 17 19 21]\n",
            " [23 25 27 29]]\n"
          ]
        }
      ]
    }
  ]
}